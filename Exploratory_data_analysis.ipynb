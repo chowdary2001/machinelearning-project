{
  "nbformat": 4,
  "nbformat_minor": 0,
  "metadata": {
    "colab": {
      "name": "Exploratory_data_analysis.ipynb",
      "provenance": [],
      "collapsed_sections": [],
      "authorship_tag": "ABX9TyPlmvV9FVF+B4ZXBrNlcTY2",
      "include_colab_link": true
    },
    "kernelspec": {
      "name": "python3",
      "display_name": "Python 3"
    }
  },
  "cells": [
    {
      "cell_type": "markdown",
      "metadata": {
        "id": "view-in-github",
        "colab_type": "text"
      },
      "source": [
        "<a href=\"https://colab.research.google.com/github/chowdary2001/machinelearning-project/blob/master/Exploratory_data_analysis.ipynb\" target=\"_parent\"><img src=\"https://colab.research.google.com/assets/colab-badge.svg\" alt=\"Open In Colab\"/></a>"
      ]
    },
    {
      "cell_type": "markdown",
      "metadata": {
        "id": "38Nlw7Q26M73",
        "colab_type": "text"
      },
      "source": [
        "# **Exploratory Data Analysis of a Car showroom**"
      ]
    },
    {
      "cell_type": "markdown",
      "metadata": {
        "id": "k7WTA8Qh6X50",
        "colab_type": "text"
      },
      "source": [
        "## 1.1 Importing the required libraries"
      ]
    },
    {
      "cell_type": "code",
      "metadata": {
        "id": "FQPAaV0g6q1n",
        "colab_type": "code",
        "colab": {}
      },
      "source": [
        "#importing libraries\n",
        "import numpy as np\n",
        "import pandas as pd\n",
        "import matplotlib.pyplot as plt\n",
        "import seaborn as sns\n",
        "%matplotlib inline"
      ],
      "execution_count": 3,
      "outputs": []
    },
    {
      "cell_type": "markdown",
      "metadata": {
        "id": "I4se2dnO7ctB",
        "colab_type": "text"
      },
      "source": [
        "## 1.2 Load dataset into colab."
      ]
    },
    {
      "cell_type": "code",
      "metadata": {
        "id": "fr38UiSf7rfA",
        "colab_type": "code",
        "colab": {
          "resources": {
            "http://localhost:8080/nbextensions/google.colab/files.js": {
              "data": "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",
              "ok": true,
              "headers": [
                [
                  "content-type",
                  "application/javascript"
                ]
              ],
              "status": 200,
              "status_text": ""
            }
          },
          "base_uri": "https://localhost:8080/",
          "height": 73
        },
        "outputId": "a2352ed6-5912-4453-f766-a43b4415647f"
      },
      "source": [
        "from google.colab import files\n",
        "uploaded = files.upload()"
      ],
      "execution_count": 5,
      "outputs": [
        {
          "output_type": "display_data",
          "data": {
            "text/html": [
              "\n",
              "     <input type=\"file\" id=\"files-acef054c-53db-45af-8f7d-ee8a09176516\" name=\"files[]\" multiple disabled\n",
              "        style=\"border:none\" />\n",
              "     <output id=\"result-acef054c-53db-45af-8f7d-ee8a09176516\">\n",
              "      Upload widget is only available when the cell has been executed in the\n",
              "      current browser session. Please rerun this cell to enable.\n",
              "      </output>\n",
              "      <script src=\"/nbextensions/google.colab/files.js\"></script> "
            ],
            "text/plain": [
              "<IPython.core.display.HTML object>"
            ]
          },
          "metadata": {
            "tags": []
          }
        },
        {
          "output_type": "stream",
          "text": [
            "Saving data.csv to data.csv\n"
          ],
          "name": "stdout"
        }
      ]
    },
    {
      "cell_type": "markdown",
      "metadata": {
        "id": "fLT-UhWy7Hxv",
        "colab_type": "text"
      },
      "source": [
        "## 1.3 reading the data and underatanding the data"
      ]
    },
    {
      "cell_type": "code",
      "metadata": {
        "id": "d6vzNaG17RmR",
        "colab_type": "code",
        "colab": {
          "base_uri": "https://localhost:8080/",
          "height": 202
        },
        "outputId": "77063495-e59f-4ca3-f56d-c5161d730c61"
      },
      "source": [
        "# reading data into the pandas as car_data\n",
        "car_data=pd.read_csv(\"/content/data.csv\")\n",
        "#reading the shape and checking the statistical summary\n",
        "car_data.describe(),car_data.shape"
      ],
      "execution_count": 6,
      "outputs": [
        {
          "output_type": "execute_result",
          "data": {
            "text/plain": [
              "(               Year    Engine HP  ...    Popularity          MSRP\n",
              " count  11914.000000  11845.00000  ...  11914.000000  1.191400e+04\n",
              " mean    2010.384338    249.38607  ...   1554.911197  4.059474e+04\n",
              " std        7.579740    109.19187  ...   1441.855347  6.010910e+04\n",
              " min     1990.000000     55.00000  ...      2.000000  2.000000e+03\n",
              " 25%     2007.000000    170.00000  ...    549.000000  2.100000e+04\n",
              " 50%     2015.000000    227.00000  ...   1385.000000  2.999500e+04\n",
              " 75%     2016.000000    300.00000  ...   2009.000000  4.223125e+04\n",
              " max     2017.000000   1001.00000  ...   5657.000000  2.065902e+06\n",
              " \n",
              " [8 rows x 8 columns], (11914, 16))"
            ]
          },
          "metadata": {
            "tags": []
          },
          "execution_count": 6
        }
      ]
    },
    {
      "cell_type": "markdown",
      "metadata": {
        "id": "8cIM6YvT8ibr",
        "colab_type": "text"
      },
      "source": [
        "## 2.Getting the basic information of data "
      ]
    },
    {
      "cell_type": "markdown",
      "metadata": {
        "id": "1kIJbraR8vT6",
        "colab_type": "text"
      },
      "source": [
        "Here we will see the what is the datatype of each row and no of non null values.Also we can know the names of each coloumn"
      ]
    },
    {
      "cell_type": "code",
      "metadata": {
        "id": "_5-4ezgO8xob",
        "colab_type": "code",
        "colab": {
          "base_uri": "https://localhost:8080/",
          "height": 403
        },
        "outputId": "d5acb198-3911-4a82-e542-f349563f1445"
      },
      "source": [
        "car_data.info()"
      ],
      "execution_count": 7,
      "outputs": [
        {
          "output_type": "stream",
          "text": [
            "<class 'pandas.core.frame.DataFrame'>\n",
            "RangeIndex: 11914 entries, 0 to 11913\n",
            "Data columns (total 16 columns):\n",
            " #   Column             Non-Null Count  Dtype  \n",
            "---  ------             --------------  -----  \n",
            " 0   Make               11914 non-null  object \n",
            " 1   Model              11914 non-null  object \n",
            " 2   Year               11914 non-null  int64  \n",
            " 3   Engine Fuel Type   11911 non-null  object \n",
            " 4   Engine HP          11845 non-null  float64\n",
            " 5   Engine Cylinders   11884 non-null  float64\n",
            " 6   Transmission Type  11914 non-null  object \n",
            " 7   Driven_Wheels      11914 non-null  object \n",
            " 8   Number of Doors    11908 non-null  float64\n",
            " 9   Market Category    8172 non-null   object \n",
            " 10  Vehicle Size       11914 non-null  object \n",
            " 11  Vehicle Style      11914 non-null  object \n",
            " 12  highway MPG        11914 non-null  int64  \n",
            " 13  city mpg           11914 non-null  int64  \n",
            " 14  Popularity         11914 non-null  int64  \n",
            " 15  MSRP               11914 non-null  int64  \n",
            "dtypes: float64(3), int64(5), object(8)\n",
            "memory usage: 1.5+ MB\n"
          ],
          "name": "stdout"
        }
      ]
    },
    {
      "cell_type": "markdown",
      "metadata": {
        "id": "5uDGjc-Q8558",
        "colab_type": "text"
      },
      "source": [
        "By observing the non null values we can see that the column Market Catogery has the more number of null values.So it is better to drop out this column.And by observing the columns we can know that the number of rows and engine fuel type also didn't show impact on the model.So we can drop those as well"
      ]
    },
    {
      "cell_type": "code",
      "metadata": {
        "id": "8-0JQarM9RNR",
        "colab_type": "code",
        "colab": {
          "base_uri": "https://localhost:8080/",
          "height": 353
        },
        "outputId": "8a6f65f7-4ba1-48db-808c-2db90adfd2d6"
      },
      "source": [
        "car_data=car_data.drop(columns=[\"Market Category\",\"Number of Doors\",\"Engine Fuel Type\"])\n",
        "car_data.info()"
      ],
      "execution_count": 8,
      "outputs": [
        {
          "output_type": "stream",
          "text": [
            "<class 'pandas.core.frame.DataFrame'>\n",
            "RangeIndex: 11914 entries, 0 to 11913\n",
            "Data columns (total 13 columns):\n",
            " #   Column             Non-Null Count  Dtype  \n",
            "---  ------             --------------  -----  \n",
            " 0   Make               11914 non-null  object \n",
            " 1   Model              11914 non-null  object \n",
            " 2   Year               11914 non-null  int64  \n",
            " 3   Engine HP          11845 non-null  float64\n",
            " 4   Engine Cylinders   11884 non-null  float64\n",
            " 5   Transmission Type  11914 non-null  object \n",
            " 6   Driven_Wheels      11914 non-null  object \n",
            " 7   Vehicle Size       11914 non-null  object \n",
            " 8   Vehicle Style      11914 non-null  object \n",
            " 9   highway MPG        11914 non-null  int64  \n",
            " 10  city mpg           11914 non-null  int64  \n",
            " 11  Popularity         11914 non-null  int64  \n",
            " 12  MSRP               11914 non-null  int64  \n",
            "dtypes: float64(2), int64(5), object(6)\n",
            "memory usage: 1.2+ MB\n"
          ],
          "name": "stdout"
        }
      ]
    },
    {
      "cell_type": "markdown",
      "metadata": {
        "id": "ITiMD7VB9fwY",
        "colab_type": "text"
      },
      "source": [
        "## 3.Renaming the columns"
      ]
    },
    {
      "cell_type": "code",
      "metadata": {
        "id": "_uQ2kT4C9jcp",
        "colab_type": "code",
        "colab": {
          "base_uri": "https://localhost:8080/",
          "height": 353
        },
        "outputId": "18d0148f-7557-43ff-b549-3ab9c6a3c5fe"
      },
      "source": [
        "car_data.rename(columns={'Engine HP':'HP','Engine Cylinders':'Cylinders','Transmission Type':'Transmission','Driven_Wheels':'Drive Mode','highway MPG':'MPG-H','city mpg':'MPG-C','MSRP':'Price'},inplace=True)\n",
        "car_data.info()"
      ],
      "execution_count": 9,
      "outputs": [
        {
          "output_type": "stream",
          "text": [
            "<class 'pandas.core.frame.DataFrame'>\n",
            "RangeIndex: 11914 entries, 0 to 11913\n",
            "Data columns (total 13 columns):\n",
            " #   Column         Non-Null Count  Dtype  \n",
            "---  ------         --------------  -----  \n",
            " 0   Make           11914 non-null  object \n",
            " 1   Model          11914 non-null  object \n",
            " 2   Year           11914 non-null  int64  \n",
            " 3   HP             11845 non-null  float64\n",
            " 4   Cylinders      11884 non-null  float64\n",
            " 5   Transmission   11914 non-null  object \n",
            " 6   Drive Mode     11914 non-null  object \n",
            " 7   Vehicle Size   11914 non-null  object \n",
            " 8   Vehicle Style  11914 non-null  object \n",
            " 9   MPG-H          11914 non-null  int64  \n",
            " 10  MPG-C          11914 non-null  int64  \n",
            " 11  Popularity     11914 non-null  int64  \n",
            " 12  Price          11914 non-null  int64  \n",
            "dtypes: float64(2), int64(5), object(6)\n",
            "memory usage: 1.2+ MB\n"
          ],
          "name": "stdout"
        }
      ]
    },
    {
      "cell_type": "markdown",
      "metadata": {
        "id": "4YT8NwAU9pqB",
        "colab_type": "text"
      },
      "source": [
        "## 4.1 Checking for any duplicate values"
      ]
    },
    {
      "cell_type": "code",
      "metadata": {
        "id": "uSZkdlrl9qkK",
        "colab_type": "code",
        "colab": {
          "base_uri": "https://localhost:8080/",
          "height": 252
        },
        "outputId": "2fe2cc6b-dd2f-4fd9-df3e-6554b0c345f9"
      },
      "source": [
        "car_data_duplicate=car_data[car_data.duplicated()]\n",
        "car_data_duplicate,car_data_duplicate.shape"
      ],
      "execution_count": 10,
      "outputs": [
        {
          "output_type": "execute_result",
          "data": {
            "text/plain": [
              "(         Make     Model  Year     HP  ...  MPG-H MPG-C Popularity  Price\n",
              " 14        BMW  1 Series  2013  230.0  ...     28    19       3916  31500\n",
              " 18       Audi       100  1992  172.0  ...     24    17       3105   2000\n",
              " 20       Audi       100  1992  172.0  ...     24    17       3105   2000\n",
              " 24       Audi       100  1993  172.0  ...     24    17       3105   2000\n",
              " 25       Audi       100  1993  172.0  ...     24    17       3105   2000\n",
              " ...       ...       ...   ...    ...  ...    ...   ...        ...    ...\n",
              " 11481  Suzuki      X-90  1998   95.0  ...     26    22        481   2000\n",
              " 11603   Volvo      XC60  2017  302.0  ...     29    20        870  46350\n",
              " 11604   Volvo      XC60  2017  240.0  ...     30    23        870  40950\n",
              " 11708  Suzuki       XL7  2008  252.0  ...     22    15        481  29149\n",
              " 11717  Suzuki       XL7  2008  252.0  ...     22    16        481  27499\n",
              " \n",
              " [792 rows x 13 columns], (792, 13))"
            ]
          },
          "metadata": {
            "tags": []
          },
          "execution_count": 10
        }
      ]
    },
    {
      "cell_type": "markdown",
      "metadata": {
        "id": "kVHwejjn9ykK",
        "colab_type": "text"
      },
      "source": [
        "## 4.2 Removing the duplicates"
      ]
    },
    {
      "cell_type": "code",
      "metadata": {
        "id": "JjIL0bJp9z2b",
        "colab_type": "code",
        "colab": {
          "base_uri": "https://localhost:8080/",
          "height": 353
        },
        "outputId": "9a4ddafb-02fb-4bbe-abdc-46a2876f26cd"
      },
      "source": [
        "car_data.drop_duplicates(inplace=True)\n",
        "car_data.info()"
      ],
      "execution_count": 11,
      "outputs": [
        {
          "output_type": "stream",
          "text": [
            "<class 'pandas.core.frame.DataFrame'>\n",
            "Int64Index: 11122 entries, 0 to 11913\n",
            "Data columns (total 13 columns):\n",
            " #   Column         Non-Null Count  Dtype  \n",
            "---  ------         --------------  -----  \n",
            " 0   Make           11122 non-null  object \n",
            " 1   Model          11122 non-null  object \n",
            " 2   Year           11122 non-null  int64  \n",
            " 3   HP             11053 non-null  float64\n",
            " 4   Cylinders      11092 non-null  float64\n",
            " 5   Transmission   11122 non-null  object \n",
            " 6   Drive Mode     11122 non-null  object \n",
            " 7   Vehicle Size   11122 non-null  object \n",
            " 8   Vehicle Style  11122 non-null  object \n",
            " 9   MPG-H          11122 non-null  int64  \n",
            " 10  MPG-C          11122 non-null  int64  \n",
            " 11  Popularity     11122 non-null  int64  \n",
            " 12  Price          11122 non-null  int64  \n",
            "dtypes: float64(2), int64(5), object(6)\n",
            "memory usage: 1.2+ MB\n"
          ],
          "name": "stdout"
        }
      ]
    },
    {
      "cell_type": "markdown",
      "metadata": {
        "id": "Z-u3CR6O98Z3",
        "colab_type": "text"
      },
      "source": [
        "## 4.3 Filling the nan values"
      ]
    },
    {
      "cell_type": "markdown",
      "metadata": {
        "id": "YqDa9Dp2-AvN",
        "colab_type": "text"
      },
      "source": [
        "As we can see from the above info there are some nan values in the data.For constructing a machine learning model there should not be any nan value present in the data.We can remove the nan values.But instead of removing if we replace the nan valuesit gives more data for the machine model to give more accuracy"
      ]
    },
    {
      "cell_type": "code",
      "metadata": {
        "id": "shkpnwlD-EyS",
        "colab_type": "code",
        "colab": {
          "base_uri": "https://localhost:8080/",
          "height": 353
        },
        "outputId": "13b3c4f4-b33a-43fa-d74b-12cb03a6ad35"
      },
      "source": [
        "car_data.fillna(method='ffill',inplace=True)\n",
        "car_data.info()"
      ],
      "execution_count": 12,
      "outputs": [
        {
          "output_type": "stream",
          "text": [
            "<class 'pandas.core.frame.DataFrame'>\n",
            "Int64Index: 11122 entries, 0 to 11913\n",
            "Data columns (total 13 columns):\n",
            " #   Column         Non-Null Count  Dtype  \n",
            "---  ------         --------------  -----  \n",
            " 0   Make           11122 non-null  object \n",
            " 1   Model          11122 non-null  object \n",
            " 2   Year           11122 non-null  int64  \n",
            " 3   HP             11122 non-null  float64\n",
            " 4   Cylinders      11122 non-null  float64\n",
            " 5   Transmission   11122 non-null  object \n",
            " 6   Drive Mode     11122 non-null  object \n",
            " 7   Vehicle Size   11122 non-null  object \n",
            " 8   Vehicle Style  11122 non-null  object \n",
            " 9   MPG-H          11122 non-null  int64  \n",
            " 10  MPG-C          11122 non-null  int64  \n",
            " 11  Popularity     11122 non-null  int64  \n",
            " 12  Price          11122 non-null  int64  \n",
            "dtypes: float64(2), int64(5), object(6)\n",
            "memory usage: 1.2+ MB\n"
          ],
          "name": "stdout"
        }
      ]
    },
    {
      "cell_type": "markdown",
      "metadata": {
        "id": "y7lQn1nR-KoO",
        "colab_type": "text"
      },
      "source": [
        "## 5.Box plotting to check outliers and removing outliers"
      ]
    },
    {
      "cell_type": "code",
      "metadata": {
        "id": "F2yZRkOw-PZr",
        "colab_type": "code",
        "colab": {
          "base_uri": "https://localhost:8080/",
          "height": 296
        },
        "outputId": "a20c1050-5627-4591-b61f-4d2b808ada76"
      },
      "source": [
        "sns.boxplot(car_data['HP'])"
      ],
      "execution_count": 13,
      "outputs": [
        {
          "output_type": "execute_result",
          "data": {
            "text/plain": [
              "<matplotlib.axes._subplots.AxesSubplot at 0x7f6849691860>"
            ]
          },
          "metadata": {
            "tags": []
          },
          "execution_count": 13
        },
        {
          "output_type": "display_data",
          "data": {
            "image/png": "[encoded data removed]",
            "text/plain": [
              "<Figure size 432x288 with 1 Axes>"
            ]
          },
          "metadata": {
            "tags": [],
            "needs_background": "light"
          }
        }
      ]
    },
    {
      "cell_type": "code",
      "metadata": {
        "id": "0G6BZKHM-XwA",
        "colab_type": "code",
        "colab": {
          "base_uri": "https://localhost:8080/",
          "height": 296
        },
        "outputId": "45b2dc9d-ab6a-425b-866d-06d6cc323d6a"
      },
      "source": [
        "sns.boxplot(car_data['Cylinders'])"
      ],
      "execution_count": 14,
      "outputs": [
        {
          "output_type": "execute_result",
          "data": {
            "text/plain": [
              "<matplotlib.axes._subplots.AxesSubplot at 0x7f684958af28>"
            ]
          },
          "metadata": {
            "tags": []
          },
          "execution_count": 14
        },
        {
          "output_type": "display_data",
          "data": {
            "image/png": "[encoded data removed]",
            "text/plain": [
              "<Figure size 432x288 with 1 Axes>"
            ]
          },
          "metadata": {
            "tags": [],
            "needs_background": "light"
          }
        }
      ]
    },
    {
      "cell_type": "code",
      "metadata": {
        "id": "Cov3BrzW-ceD",
        "colab_type": "code",
        "colab": {
          "base_uri": "https://localhost:8080/",
          "height": 296
        },
        "outputId": "a4cbbd29-9578-4a06-a8b3-3bd8c26177db"
      },
      "source": [
        "sns.boxplot(car_data['MPG-H'])"
      ],
      "execution_count": 15,
      "outputs": [
        {
          "output_type": "execute_result",
          "data": {
            "text/plain": [
              "<matplotlib.axes._subplots.AxesSubplot at 0x7f684912f470>"
            ]
          },
          "metadata": {
            "tags": []
          },
          "execution_count": 15
        },
        {
          "output_type": "display_data",
          "data": {
            "image/png": "[encoded data removed]",
            "text/plain": [
              "<Figure size 432x288 with 1 Axes>"
            ]
          },
          "metadata": {
            "tags": [],
            "needs_background": "light"
          }
        }
      ]
    },
    {
      "cell_type": "code",
      "metadata": {
        "id": "OtmvUzex-f7U",
        "colab_type": "code",
        "colab": {
          "base_uri": "https://localhost:8080/",
          "height": 296
        },
        "outputId": "4583944c-b5a3-43a5-9a4d-a1526d94eedc"
      },
      "source": [
        "sns.boxplot(car_data['MPG-C'])"
      ],
      "execution_count": 16,
      "outputs": [
        {
          "output_type": "execute_result",
          "data": {
            "text/plain": [
              "<matplotlib.axes._subplots.AxesSubplot at 0x7f6849093ba8>"
            ]
          },
          "metadata": {
            "tags": []
          },
          "execution_count": 16
        },
        {
          "output_type": "display_data",
          "data": {
            "image/png": "[encoded data removed]",
            "text/plain": [
              "<Figure size 432x288 with 1 Axes>"
            ]
          },
          "metadata": {
            "tags": [],
            "needs_background": "light"
          }
        }
      ]
    },
    {
      "cell_type": "code",
      "metadata": {
        "id": "1lmGxvjf-ini",
        "colab_type": "code",
        "colab": {
          "base_uri": "https://localhost:8080/",
          "height": 296
        },
        "outputId": "97965394-ce9d-479e-cb2a-c581fb39a8e5"
      },
      "source": [
        "sns.boxplot(car_data['Popularity'])"
      ],
      "execution_count": 17,
      "outputs": [
        {
          "output_type": "execute_result",
          "data": {
            "text/plain": [
              "<matplotlib.axes._subplots.AxesSubplot at 0x7f6848ff4ac8>"
            ]
          },
          "metadata": {
            "tags": []
          },
          "execution_count": 17
        },
        {
          "output_type": "display_data",
          "data": {
            "image/png": "[encoded data removed]",
            "text/plain": [
              "<Figure size 432x288 with 1 Axes>"
            ]
          },
          "metadata": {
            "tags": [],
            "needs_background": "light"
          }
        }
      ]
    },
    {
      "cell_type": "code",
      "metadata": {
        "id": "QFepzA_u-mym",
        "colab_type": "code",
        "colab": {
          "base_uri": "https://localhost:8080/",
          "height": 296
        },
        "outputId": "77870642-875a-4b25-948b-33db70139032"
      },
      "source": [
        "sns.boxplot(car_data['Price'])"
      ],
      "execution_count": 18,
      "outputs": [
        {
          "output_type": "execute_result",
          "data": {
            "text/plain": [
              "<matplotlib.axes._subplots.AxesSubplot at 0x7f68495e7a90>"
            ]
          },
          "metadata": {
            "tags": []
          },
          "execution_count": 18
        },
        {
          "output_type": "display_data",
          "data": {
            "image/png": "[encoded data removed]",
            "text/plain": [
              "<Figure size 432x288 with 1 Axes>"
            ]
          },
          "metadata": {
            "tags": [],
            "needs_background": "light"
          }
        }
      ]
    },
    {
      "cell_type": "code",
      "metadata": {
        "id": "Obly0Bm1-pvn",
        "colab_type": "code",
        "colab": {
          "base_uri": "https://localhost:8080/",
          "height": 34
        },
        "outputId": "f64aabfd-da4d-4fa6-a4db-3164fe852586"
      },
      "source": [
        "Q1=car_data.quantile(0.25)\n",
        "Q2=car_data.quantile(0.75)\n",
        "IQR=Q2-Q1\n",
        "car_data=car_data[~((car_data<(Q1-1.5*IQR))|(car_data>(Q2+1.5*IQR))).any(axis=1)]\n",
        "car_data.shape"
      ],
      "execution_count": 19,
      "outputs": [
        {
          "output_type": "execute_result",
          "data": {
            "text/plain": [
              "(8576, 13)"
            ]
          },
          "metadata": {
            "tags": []
          },
          "execution_count": 19
        }
      ]
    },
    {
      "cell_type": "markdown",
      "metadata": {
        "id": "b40wj51m-tZ5",
        "colab_type": "text"
      },
      "source": [
        "## 6.Most represented car brands"
      ]
    },
    {
      "cell_type": "code",
      "metadata": {
        "id": "6E3y5I7V-vNv",
        "colab_type": "code",
        "colab": {
          "base_uri": "https://localhost:8080/",
          "height": 607
        },
        "outputId": "f57b0224-7202-43c0-94d1-fc069763abab"
      },
      "source": [
        "brand_count=car_data['Make'].value_counts()*100/sum(car_data['Make'].value_counts())\n",
        "popular_brands=brand_count.index[:10]\n",
        "plt.figure(figsize=(10,10))\n",
        "plt.bar(popular_brands,brand_count[0:10])\n",
        "plt.title('top car brands')\n",
        "plt.show()"
      ],
      "execution_count": 20,
      "outputs": [
        {
          "output_type": "display_data",
          "data": {
            "image/png": "[encoded data removed]",
            "text/plain": [
              "<Figure size 720x720 with 1 Axes>"
            ]
          },
          "metadata": {
            "tags": [],
            "needs_background": "light"
          }
        }
      ]
    },
    {
      "cell_type": "code",
      "metadata": {
        "id": "SP4JXwg9-zxy",
        "colab_type": "code",
        "colab": {
          "base_uri": "https://localhost:8080/",
          "height": 373
        },
        "outputId": "0bc76324-c4de-4bf2-feb3-e72d8d67067f"
      },
      "source": [
        "avg_prices=car_data[['Make','Price']].loc[(car_data['Make']=='Chevrolet')|\n",
        "                                          (car_data['Make']=='Toyota')|\n",
        "                                          (car_data['Make']=='Volkswagen')|\n",
        "                                          (car_data['Make']=='Nissan')|\n",
        "                                          (car_data['Make']=='GMC')|\n",
        "                                          (car_data['Make']=='Dodge')|\n",
        "                                          (car_data['Make']=='Mazda')|\n",
        "                                          (car_data['Make']=='Honda')|\n",
        "                                          (car_data['Make']=='Suzuki')|\n",
        "                                          (car_data['Make']=='Infiniti')].groupby('Make').mean()\n",
        "avg_prices"
      ],
      "execution_count": 21,
      "outputs": [
        {
          "output_type": "execute_result",
          "data": {
            "text/html": [
              "<div>\n",
              "<style scoped>\n",
              "    .dataframe tbody tr th:only-of-type {\n",
              "        vertical-align: middle;\n",
              "    }\n",
              "\n",
              "    .dataframe tbody tr th {\n",
              "        vertical-align: top;\n",
              "    }\n",
              "\n",
              "    .dataframe thead th {\n",
              "        text-align: right;\n",
              "    }\n",
              "</style>\n",
              "<table border=\"1\" class=\"dataframe\">\n",
              "  <thead>\n",
              "    <tr style=\"text-align: right;\">\n",
              "      <th></th>\n",
              "      <th>Price</th>\n",
              "    </tr>\n",
              "    <tr>\n",
              "      <th>Make</th>\n",
              "      <th></th>\n",
              "    </tr>\n",
              "  </thead>\n",
              "  <tbody>\n",
              "    <tr>\n",
              "      <th>Chevrolet</th>\n",
              "      <td>28207.045499</td>\n",
              "    </tr>\n",
              "    <tr>\n",
              "      <th>Dodge</th>\n",
              "      <td>26076.722353</td>\n",
              "    </tr>\n",
              "    <tr>\n",
              "      <th>GMC</th>\n",
              "      <td>33261.400853</td>\n",
              "    </tr>\n",
              "    <tr>\n",
              "      <th>Honda</th>\n",
              "      <td>27381.364611</td>\n",
              "    </tr>\n",
              "    <tr>\n",
              "      <th>Infiniti</th>\n",
              "      <td>43127.822981</td>\n",
              "    </tr>\n",
              "    <tr>\n",
              "      <th>Mazda</th>\n",
              "      <td>20830.670025</td>\n",
              "    </tr>\n",
              "    <tr>\n",
              "      <th>Nissan</th>\n",
              "      <td>28352.543860</td>\n",
              "    </tr>\n",
              "    <tr>\n",
              "      <th>Suzuki</th>\n",
              "      <td>18168.241888</td>\n",
              "    </tr>\n",
              "    <tr>\n",
              "      <th>Toyota</th>\n",
              "      <td>27769.421793</td>\n",
              "    </tr>\n",
              "    <tr>\n",
              "      <th>Volkswagen</th>\n",
              "      <td>29032.817476</td>\n",
              "    </tr>\n",
              "  </tbody>\n",
              "</table>\n",
              "</div>"
            ],
            "text/plain": [
              "                   Price\n",
              "Make                    \n",
              "Chevrolet   28207.045499\n",
              "Dodge       26076.722353\n",
              "GMC         33261.400853\n",
              "Honda       27381.364611\n",
              "Infiniti    43127.822981\n",
              "Mazda       20830.670025\n",
              "Nissan      28352.543860\n",
              "Suzuki      18168.241888\n",
              "Toyota      27769.421793\n",
              "Volkswagen  29032.817476"
            ]
          },
          "metadata": {
            "tags": []
          },
          "execution_count": 21
        }
      ]
    },
    {
      "cell_type": "markdown",
      "metadata": {
        "id": "AkIKu0Ou-6wu",
        "colab_type": "text"
      },
      "source": [
        "## 7.correlation matrix"
      ]
    },
    {
      "cell_type": "code",
      "metadata": {
        "id": "x7n1uPuE-7wH",
        "colab_type": "code",
        "colab": {
          "base_uri": "https://localhost:8080/",
          "height": 254
        },
        "outputId": "46259d53-38ad-410f-b6e1-f0d13d1dc19f"
      },
      "source": [
        "car_data.corr()   #plotting the correlation matrix"
      ],
      "execution_count": 22,
      "outputs": [
        {
          "output_type": "execute_result",
          "data": {
            "text/html": [
              "<div>\n",
              "<style scoped>\n",
              "    .dataframe tbody tr th:only-of-type {\n",
              "        vertical-align: middle;\n",
              "    }\n",
              "\n",
              "    .dataframe tbody tr th {\n",
              "        vertical-align: top;\n",
              "    }\n",
              "\n",
              "    .dataframe thead th {\n",
              "        text-align: right;\n",
              "    }\n",
              "</style>\n",
              "<table border=\"1\" class=\"dataframe\">\n",
              "  <thead>\n",
              "    <tr style=\"text-align: right;\">\n",
              "      <th></th>\n",
              "      <th>Year</th>\n",
              "      <th>HP</th>\n",
              "      <th>Cylinders</th>\n",
              "      <th>MPG-H</th>\n",
              "      <th>MPG-C</th>\n",
              "      <th>Popularity</th>\n",
              "      <th>Price</th>\n",
              "    </tr>\n",
              "  </thead>\n",
              "  <tbody>\n",
              "    <tr>\n",
              "      <th>Year</th>\n",
              "      <td>1.000000</td>\n",
              "      <td>0.325029</td>\n",
              "      <td>-0.106530</td>\n",
              "      <td>0.373126</td>\n",
              "      <td>0.335017</td>\n",
              "      <td>0.200499</td>\n",
              "      <td>0.592008</td>\n",
              "    </tr>\n",
              "    <tr>\n",
              "      <th>HP</th>\n",
              "      <td>0.325029</td>\n",
              "      <td>1.000000</td>\n",
              "      <td>0.733501</td>\n",
              "      <td>-0.452827</td>\n",
              "      <td>-0.554034</td>\n",
              "      <td>0.094568</td>\n",
              "      <td>0.745424</td>\n",
              "    </tr>\n",
              "    <tr>\n",
              "      <th>Cylinders</th>\n",
              "      <td>-0.106530</td>\n",
              "      <td>0.733501</td>\n",
              "      <td>1.000000</td>\n",
              "      <td>-0.691566</td>\n",
              "      <td>-0.746529</td>\n",
              "      <td>0.012499</td>\n",
              "      <td>0.388570</td>\n",
              "    </tr>\n",
              "    <tr>\n",
              "      <th>MPG-H</th>\n",
              "      <td>0.373126</td>\n",
              "      <td>-0.452827</td>\n",
              "      <td>-0.691566</td>\n",
              "      <td>1.000000</td>\n",
              "      <td>0.937005</td>\n",
              "      <td>0.094043</td>\n",
              "      <td>-0.120851</td>\n",
              "    </tr>\n",
              "    <tr>\n",
              "      <th>MPG-C</th>\n",
              "      <td>0.335017</td>\n",
              "      <td>-0.554034</td>\n",
              "      <td>-0.746529</td>\n",
              "      <td>0.937005</td>\n",
              "      <td>1.000000</td>\n",
              "      <td>0.082408</td>\n",
              "      <td>-0.196935</td>\n",
              "    </tr>\n",
              "    <tr>\n",
              "      <th>Popularity</th>\n",
              "      <td>0.200499</td>\n",
              "      <td>0.094568</td>\n",
              "      <td>0.012499</td>\n",
              "      <td>0.094043</td>\n",
              "      <td>0.082408</td>\n",
              "      <td>1.000000</td>\n",
              "      <td>0.112513</td>\n",
              "    </tr>\n",
              "    <tr>\n",
              "      <th>Price</th>\n",
              "      <td>0.592008</td>\n",
              "      <td>0.745424</td>\n",
              "      <td>0.388570</td>\n",
              "      <td>-0.120851</td>\n",
              "      <td>-0.196935</td>\n",
              "      <td>0.112513</td>\n",
              "      <td>1.000000</td>\n",
              "    </tr>\n",
              "  </tbody>\n",
              "</table>\n",
              "</div>"
            ],
            "text/plain": [
              "                Year        HP  Cylinders  ...     MPG-C  Popularity     Price\n",
              "Year        1.000000  0.325029  -0.106530  ...  0.335017    0.200499  0.592008\n",
              "HP          0.325029  1.000000   0.733501  ... -0.554034    0.094568  0.745424\n",
              "Cylinders  -0.106530  0.733501   1.000000  ... -0.746529    0.012499  0.388570\n",
              "MPG-H       0.373126 -0.452827  -0.691566  ...  0.937005    0.094043 -0.120851\n",
              "MPG-C       0.335017 -0.554034  -0.746529  ...  1.000000    0.082408 -0.196935\n",
              "Popularity  0.200499  0.094568   0.012499  ...  0.082408    1.000000  0.112513\n",
              "Price       0.592008  0.745424   0.388570  ... -0.196935    0.112513  1.000000\n",
              "\n",
              "[7 rows x 7 columns]"
            ]
          },
          "metadata": {
            "tags": []
          },
          "execution_count": 22
        }
      ]
    },
    {
      "cell_type": "code",
      "metadata": {
        "id": "IETqtr2G_GpS",
        "colab_type": "code",
        "colab": {
          "base_uri": "https://localhost:8080/",
          "height": 341
        },
        "outputId": "643cac07-b3d0-41c0-e6e6-e72c73c2952c"
      },
      "source": [
        "plt.figure(figsize=(10,5))\n",
        "sns.heatmap(car_data.corr(),annot=True)    #plotting the heat map"
      ],
      "execution_count": 23,
      "outputs": [
        {
          "output_type": "execute_result",
          "data": {
            "text/plain": [
              "<matplotlib.axes._subplots.AxesSubplot at 0x7f68497402b0>"
            ]
          },
          "metadata": {
            "tags": []
          },
          "execution_count": 23
        },
        {
          "output_type": "display_data",
          "data": {
            "image/png": "[encoded data removed]",
            "text/plain": [
              "<Figure size 720x360 with 2 Axes>"
            ]
          },
          "metadata": {
            "tags": [],
            "needs_background": "light"
          }
        }
      ]
    },
    {
      "cell_type": "markdown",
      "metadata": {
        "id": "GIPeoXpx_Trk",
        "colab_type": "text"
      },
      "source": [
        "## 8.Plotting different graphs"
      ]
    },
    {
      "cell_type": "code",
      "metadata": {
        "id": "4EEomhIT_ZHM",
        "colab_type": "code",
        "colab": {
          "base_uri": "https://localhost:8080/",
          "height": 623
        },
        "outputId": "3f98371d-cfd6-47ad-97e7-d0c6bf826803"
      },
      "source": [
        "plt.figure(figsize=(10,10))\n",
        "sns.barplot(car_data['Price'],car_data['HP'])"
      ],
      "execution_count": 25,
      "outputs": [
        {
          "output_type": "execute_result",
          "data": {
            "text/plain": [
              "<matplotlib.axes._subplots.AxesSubplot at 0x7f68439a2780>"
            ]
          },
          "metadata": {
            "tags": []
          },
          "execution_count": 25
        },
        {
          "output_type": "display_data",
          "data": {
            "image/png": "[encoded data removed]",
            "text/plain": [
              "<Figure size 720x720 with 1 Axes>"
            ]
          },
          "metadata": {
            "tags": [],
            "needs_background": "light"
          }
        }
      ]
    },
    {
      "cell_type": "code",
      "metadata": {
        "id": "srcR4b9OADd2",
        "colab_type": "code",
        "colab": {
          "base_uri": "https://localhost:8080/",
          "height": 623
        },
        "outputId": "d161ac1a-5129-45cb-b338-a0d692f1e64a"
      },
      "source": [
        "plt.figure(figsize=(10,10))\n",
        "sns.barplot(car_data['Year'],car_data['Price'])"
      ],
      "execution_count": 26,
      "outputs": [
        {
          "output_type": "execute_result",
          "data": {
            "text/plain": [
              "<matplotlib.axes._subplots.AxesSubplot at 0x7f6842d83eb8>"
            ]
          },
          "metadata": {
            "tags": []
          },
          "execution_count": 26
        },
        {
          "output_type": "display_data",
          "data": {
            "image/png": "[encoded data removed]",
            "text/plain": [
              "<Figure size 720x720 with 1 Axes>"
            ]
          },
          "metadata": {
            "tags": [],
            "needs_background": "light"
          }
        }
      ]
    },
    {
      "cell_type": "code",
      "metadata": {
        "id": "81LhUivIAJCZ",
        "colab_type": "code",
        "colab": {
          "base_uri": "https://localhost:8080/",
          "height": 623
        },
        "outputId": "934c0e01-d10c-441a-ccde-60b3f5694c64"
      },
      "source": [
        "plt.figure(figsize=(10,10))\n",
        "sns.barplot(car_data['MPG-H'],car_data['Price'])"
      ],
      "execution_count": 27,
      "outputs": [
        {
          "output_type": "execute_result",
          "data": {
            "text/plain": [
              "<matplotlib.axes._subplots.AxesSubplot at 0x7f6849743278>"
            ]
          },
          "metadata": {
            "tags": []
          },
          "execution_count": 27
        },
        {
          "output_type": "display_data",
          "data": {
            "image/png": "[encoded data removed]",
            "text/plain": [
              "<Figure size 720x720 with 1 Axes>"
            ]
          },
          "metadata": {
            "tags": [],
            "needs_background": "light"
          }
        }
      ]
    },
    {
      "cell_type": "code",
      "metadata": {
        "id": "aGWkn-S6AO5G",
        "colab_type": "code",
        "colab": {
          "base_uri": "https://localhost:8080/",
          "height": 623
        },
        "outputId": "858ce702-461e-475f-e379-e063c97c4877"
      },
      "source": [
        "plt.figure(figsize=(10,10))\n",
        "sns.barplot(car_data['MPG-C'],car_data['Price'])"
      ],
      "execution_count": 28,
      "outputs": [
        {
          "output_type": "execute_result",
          "data": {
            "text/plain": [
              "<matplotlib.axes._subplots.AxesSubplot at 0x7f6839aff9b0>"
            ]
          },
          "metadata": {
            "tags": []
          },
          "execution_count": 28
        },
        {
          "output_type": "display_data",
          "data": {
            "image/png": "[encoded data removed]",
            "text/plain": [
              "<Figure size 720x720 with 1 Axes>"
            ]
          },
          "metadata": {
            "tags": [],
            "needs_background": "light"
          }
        }
      ]
    },
    {
      "cell_type": "code",
      "metadata": {
        "id": "kXFeBsQCARrB",
        "colab_type": "code",
        "colab": {
          "base_uri": "https://localhost:8080/",
          "height": 623
        },
        "outputId": "0e825fc5-3d8f-4097-93fe-ea599f12911e"
      },
      "source": [
        "plt.figure(figsize=(10,10))\n",
        "sns.barplot(car_data['Cylinders'],car_data['Price'])"
      ],
      "execution_count": 29,
      "outputs": [
        {
          "output_type": "execute_result",
          "data": {
            "text/plain": [
              "<matplotlib.axes._subplots.AxesSubplot at 0x7f6839cbc048>"
            ]
          },
          "metadata": {
            "tags": []
          },
          "execution_count": 29
        },
        {
          "output_type": "display_data",
          "data": {
            "image/png": "[encoded data removed]",
            "text/plain": [
              "<Figure size 720x720 with 1 Axes>"
            ]
          },
          "metadata": {
            "tags": [],
            "needs_background": "light"
          }
        }
      ]
    },
    {
      "cell_type": "markdown",
      "metadata": {
        "id": "ER6scVQvAb84",
        "colab_type": "text"
      },
      "source": [
        "From the above plots we can conclude that all the variables such as Year,Cylinders,MPG-H,MPG-C and Hp have an effect on the required output variable Price. Where the variables such as Year,Cylinders, HP have an direct relation with the Price where as the variables such as MPG-H,MPG-C has inverse correlation with the Price"
      ]
    },
    {
      "cell_type": "markdown",
      "metadata": {
        "id": "_Z3rHsWKAiGG",
        "colab_type": "text"
      },
      "source": [
        "## 9.Developing a best fit Machine Learning model"
      ]
    },
    {
      "cell_type": "markdown",
      "metadata": {
        "id": "E0vI-A3tAnEi",
        "colab_type": "text"
      },
      "source": [
        "**For this data choosing random forest gives a best fit**"
      ]
    },
    {
      "cell_type": "code",
      "metadata": {
        "id": "0df0GOy6AsTB",
        "colab_type": "code",
        "colab": {}
      },
      "source": [
        "#choosing the values for building the model\n",
        "X=car_data[['Popularity','HP','Cylinders','MPG-C','MPG-H','Year']].values\n",
        "y=car_data['Price'].values"
      ],
      "execution_count": 30,
      "outputs": []
    },
    {
      "cell_type": "code",
      "metadata": {
        "id": "ds-nmaezAxxb",
        "colab_type": "code",
        "colab": {}
      },
      "source": [
        "from sklearn.preprocessing import StandardScaler\n",
        "s=StandardScaler()\n",
        "X=s.fit_transform(X)\n",
        "y=s.fit_transform(y.reshape(-1,1))"
      ],
      "execution_count": 31,
      "outputs": []
    },
    {
      "cell_type": "code",
      "metadata": {
        "id": "e8FNeU4UA0NY",
        "colab_type": "code",
        "colab": {}
      },
      "source": [
        "#splitting the data into training and testing data sets\n",
        "from sklearn.model_selection import train_test_split\n",
        "X_train,X_test,y_train,y_test=train_test_split(X,y,test_size=0.2,random_state=0)"
      ],
      "execution_count": 32,
      "outputs": []
    },
    {
      "cell_type": "code",
      "metadata": {
        "id": "LSo2qGBRA21-",
        "colab_type": "code",
        "colab": {
          "base_uri": "https://localhost:8080/",
          "height": 70
        },
        "outputId": "7f71727a-b732-43b2-c87b-b5c7139b59d7"
      },
      "source": [
        "#implementing the random forest model to the traing and testing set\n",
        "from sklearn.ensemble import RandomForestRegressor\n",
        "regressor=RandomForestRegressor(n_estimators=50,random_state=0)\n",
        "regressor.fit(X_train,y_train)\n",
        "y_pred=regressor.predict(X_test)\n"
      ],
      "execution_count": 33,
      "outputs": [
        {
          "output_type": "stream",
          "text": [
            "/usr/local/lib/python3.6/dist-packages/ipykernel_launcher.py:4: DataConversionWarning: A column-vector y was passed when a 1d array was expected. Please change the shape of y to (n_samples,), for example using ravel().\n",
            "  after removing the cwd from sys.path.\n"
          ],
          "name": "stderr"
        }
      ]
    },
    {
      "cell_type": "markdown",
      "metadata": {
        "id": "O8E2E2L3A8VA",
        "colab_type": "text"
      },
      "source": [
        "**plotting a scatter plot and distplot for better observation of the model**"
      ]
    },
    {
      "cell_type": "code",
      "metadata": {
        "id": "8V61d99qA9cG",
        "colab_type": "code",
        "colab": {
          "base_uri": "https://localhost:8080/",
          "height": 337
        },
        "outputId": "8ca05b9e-da32-4e9d-d1ef-4fc569db4fc1"
      },
      "source": [
        "plt.figure(figsize=(10,5))\n",
        "plt.scatter(y_test,y_pred)"
      ],
      "execution_count": 34,
      "outputs": [
        {
          "output_type": "execute_result",
          "data": {
            "text/plain": [
              "<matplotlib.collections.PathCollection at 0x7f6839e1c438>"
            ]
          },
          "metadata": {
            "tags": []
          },
          "execution_count": 34
        },
        {
          "output_type": "display_data",
          "data": {
            "image/png": "[encoded data removed]",
            "text/plain": [
              "<Figure size 720x360 with 1 Axes>"
            ]
          },
          "metadata": {
            "tags": [],
            "needs_background": "light"
          }
        }
      ]
    },
    {
      "cell_type": "code",
      "metadata": {
        "id": "7ySzwhwJBCBC",
        "colab_type": "code",
        "colab": {
          "base_uri": "https://localhost:8080/",
          "height": 337
        },
        "outputId": "ce0d622b-3448-4f6d-cb52-9132aa2896a5"
      },
      "source": [
        "plt.figure(figsize=(10,5))\n",
        "sns.distplot(y_test-y_pred,bins=50)"
      ],
      "execution_count": 35,
      "outputs": [
        {
          "output_type": "execute_result",
          "data": {
            "text/plain": [
              "<matplotlib.axes._subplots.AxesSubplot at 0x7f6839dd0550>"
            ]
          },
          "metadata": {
            "tags": []
          },
          "execution_count": 35
        },
        {
          "output_type": "display_data",
          "data": {
            "image/png": "[encoded data removed]",
            "text/plain": [
              "<Figure size 720x360 with 1 Axes>"
            ]
          },
          "metadata": {
            "tags": [],
            "needs_background": "light"
          }
        }
      ]
    },
    {
      "cell_type": "markdown",
      "metadata": {
        "id": "dgaC6j5CBHN0",
        "colab_type": "text"
      },
      "source": [
        "**checking various parameters sucha as r2_score,RMSE,MAE**"
      ]
    },
    {
      "cell_type": "code",
      "metadata": {
        "id": "1NifXHETBIAI",
        "colab_type": "code",
        "colab": {
          "base_uri": "https://localhost:8080/",
          "height": 67
        },
        "outputId": "d0b438b1-9d61-42ae-8f46-2941f60f6c9e"
      },
      "source": [
        "from sklearn import metrics\n",
        "print(\"Root Mean square error=\",np.sqrt(metrics.mean_squared_error(y_test,y_pred)))\n",
        "print(\"Mean absolute error=\",metrics.mean_absolute_error(y_test,y_pred))\n",
        "print(\"r2 score=\",metrics.r2_score(y_test,y_pred))"
      ],
      "execution_count": 36,
      "outputs": [
        {
          "output_type": "stream",
          "text": [
            "Root Mean square error= 0.2685592395497229\n",
            "Mean absolute error= 0.18721166019164556\n",
            "r2 score= 0.9252126311526203\n"
          ],
          "name": "stdout"
        }
      ]
    },
    {
      "cell_type": "markdown",
      "metadata": {
        "id": "2ivGcEiGBTmu",
        "colab_type": "text"
      },
      "source": [
        "**Here the model got the accuracy of 92 percent**"
      ]
    },
    {
      "cell_type": "markdown",
      "metadata": {
        "id": "9pgL8VR8BW4n",
        "colab_type": "text"
      },
      "source": [
        "## 10.Observing various models of machine learning"
      ]
    },
    {
      "cell_type": "markdown",
      "metadata": {
        "id": "5Ocv1mNRBi7Z",
        "colab_type": "text"
      },
      "source": [
        "### Linear Regression"
      ]
    },
    {
      "cell_type": "code",
      "metadata": {
        "id": "d8a2MWyrBl68",
        "colab_type": "code",
        "colab": {
          "base_uri": "https://localhost:8080/",
          "height": 337
        },
        "outputId": "01c1500b-714e-490f-daba-18eddf886e5e"
      },
      "source": [
        "from sklearn.linear_model import LinearRegression\n",
        "regressor=LinearRegression()\n",
        "regressor.fit(X_train,y_train)\n",
        "y_pred=regressor.predict(X_test)\n",
        "plt.figure(figsize=(10,5))\n",
        "plt.scatter(y_test,y_pred)"
      ],
      "execution_count": 37,
      "outputs": [
        {
          "output_type": "execute_result",
          "data": {
            "text/plain": [
              "<matplotlib.collections.PathCollection at 0x7f6839963ba8>"
            ]
          },
          "metadata": {
            "tags": []
          },
          "execution_count": 37
        },
        {
          "output_type": "display_data",
          "data": {
            "image/png": "[encoded data removed]",
            "text/plain": [
              "<Figure size 720x360 with 1 Axes>"
            ]
          },
          "metadata": {
            "tags": [],
            "needs_background": "light"
          }
        }
      ]
    },
    {
      "cell_type": "code",
      "metadata": {
        "id": "LiIWE_tRBqcG",
        "colab_type": "code",
        "colab": {
          "base_uri": "https://localhost:8080/",
          "height": 337
        },
        "outputId": "d44169e5-5edc-4166-d919-56ef1702a499"
      },
      "source": [
        "plt.figure(figsize=(10,5))\n",
        "sns.distplot(y_test-y_pred,bins=50)"
      ],
      "execution_count": 38,
      "outputs": [
        {
          "output_type": "execute_result",
          "data": {
            "text/plain": [
              "<matplotlib.axes._subplots.AxesSubplot at 0x7f683993e1d0>"
            ]
          },
          "metadata": {
            "tags": []
          },
          "execution_count": 38
        },
        {
          "output_type": "display_data",
          "data": {
            "image/png": "[encoded data removed]",
            "text/plain": [
              "<Figure size 720x360 with 1 Axes>"
            ]
          },
          "metadata": {
            "tags": [],
            "needs_background": "light"
          }
        }
      ]
    },
    {
      "cell_type": "code",
      "metadata": {
        "id": "ROuduVW6BxVe",
        "colab_type": "code",
        "colab": {
          "base_uri": "https://localhost:8080/",
          "height": 67
        },
        "outputId": "64fb1d96-24b2-4e6f-eb31-248d51d8ba09"
      },
      "source": [
        "print(\"Root Mean square error=\",np.sqrt(metrics.mean_squared_error(y_test,y_pred)))\n",
        "print(\"Mean absolute error=\",metrics.mean_absolute_error(y_test,y_pred))\n",
        "print(\"r2 score=\",metrics.r2_score(y_test,y_pred))"
      ],
      "execution_count": 39,
      "outputs": [
        {
          "output_type": "stream",
          "text": [
            "Root Mean square error= 0.5689968076068861\n",
            "Mean absolute error= 0.43590032287632785\n",
            "r2 score= 0.6642873418413511\n"
          ],
          "name": "stdout"
        }
      ]
    },
    {
      "cell_type": "markdown",
      "metadata": {
        "id": "rKwXmyUiB261",
        "colab_type": "text"
      },
      "source": [
        "### Decision Tree Regressor"
      ]
    },
    {
      "cell_type": "code",
      "metadata": {
        "id": "QAxPi4BzB5km",
        "colab_type": "code",
        "colab": {
          "base_uri": "https://localhost:8080/",
          "height": 337
        },
        "outputId": "a98a7a52-6707-4b23-d62a-15eda256e3d0"
      },
      "source": [
        "from sklearn.tree import DecisionTreeRegressor\n",
        "regressor=DecisionTreeRegressor(random_state=0)\n",
        "regressor.fit(X_train,y_train)\n",
        "y_pred=regressor.predict(X_test)\n",
        "plt.figure(figsize=(10,5))\n",
        "plt.scatter(y_test,y_pred)"
      ],
      "execution_count": 40,
      "outputs": [
        {
          "output_type": "execute_result",
          "data": {
            "text/plain": [
              "<matplotlib.collections.PathCollection at 0x7f68397ec9e8>"
            ]
          },
          "metadata": {
            "tags": []
          },
          "execution_count": 40
        },
        {
          "output_type": "display_data",
          "data": {
            "image/png": "[encoded data removed]",
            "text/plain": [
              "<Figure size 720x360 with 1 Axes>"
            ]
          },
          "metadata": {
            "tags": [],
            "needs_background": "light"
          }
        }
      ]
    },
    {
      "cell_type": "code",
      "metadata": {
        "id": "iZrbsmFDB7-A",
        "colab_type": "code",
        "colab": {
          "base_uri": "https://localhost:8080/",
          "height": 337
        },
        "outputId": "db668c1e-0615-4cbd-eeb4-adc24e95ab9b"
      },
      "source": [
        "plt.figure(figsize=(10,5))\n",
        "sns.distplot(y_test-y_pred,bins=50)"
      ],
      "execution_count": 41,
      "outputs": [
        {
          "output_type": "execute_result",
          "data": {
            "text/plain": [
              "<matplotlib.axes._subplots.AxesSubplot at 0x7f683993ecf8>"
            ]
          },
          "metadata": {
            "tags": []
          },
          "execution_count": 41
        },
        {
          "output_type": "display_data",
          "data": {
            "image/png": "[encoded data removed]",
            "text/plain": [
              "<Figure size 720x360 with 1 Axes>"
            ]
          },
          "metadata": {
            "tags": [],
            "needs_background": "light"
          }
        }
      ]
    },
    {
      "cell_type": "code",
      "metadata": {
        "id": "0xYt2BPRjl4X",
        "colab_type": "code",
        "colab": {
          "base_uri": "https://localhost:8080/",
          "height": 67
        },
        "outputId": "f9e37023-800f-40d6-e8f0-43186638ded3"
      },
      "source": [
        "print(\"Root Mean square error=\",np.sqrt(metrics.mean_squared_error(y_test,y_pred)))\n",
        "print(\"Mean absolute error=\",metrics.mean_absolute_error(y_test,y_pred))\n",
        "print(\"r2 score=\",metrics.r2_score(y_test,y_pred))"
      ],
      "execution_count": null,
      "outputs": [
        {
          "output_type": "stream",
          "text": [
            "Root Mean square error= 0.30489608072670776\n",
            "Mean absolute error= 0.20041060889461124\n",
            "r2 score= 0.9036056141241025\n"
          ],
          "name": "stdout"
        }
      ]
    },
    {
      "cell_type": "markdown",
      "metadata": {
        "id": "jPC3XNluCGo_",
        "colab_type": "text"
      },
      "source": [
        "**From the above plottings and observations decision tree regressor has a r2 score of 0 percent which is less when compared to random forest.Hence it can not be the best model for the car data**"
      ]
    }
  ]
}